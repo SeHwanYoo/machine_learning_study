{
 "cells": [
  {
   "cell_type": "code",
   "execution_count": 1,
   "metadata": {
    "collapsed": false
   },
   "outputs": [],
   "source": [
    "import warnings\n",
    "warnings.filterwarnings(action='ignore')"
   ]
  },
  {
   "cell_type": "code",
   "execution_count": 15,
   "metadata": {
    "collapsed": false
   },
   "outputs": [],
   "source": [
    "import os, cv2, glob\n",
    "import numpy as np\n",
    "import matplotlib.pyplot as plt\n",
    "from skimage.transform import pyramid_reduce \n"
   ]
  },
  {
   "cell_type": "code",
   "execution_count": 13,
   "metadata": {
    "collapsed": false
   },
   "outputs": [
    {
     "data": {
      "text/plain": [
       "array(['000001.jpg', '0'], dtype='<U10')"
      ]
     },
     "execution_count": 13,
     "metadata": {},
     "output_type": "execute_result"
    }
   ],
   "source": [
    "base_path = r'd:/Github/machine_learning_study/high_resov/dataset/'\n",
    "img_base_path = os.path.join(base_path, 'img_align_celeba/img_align_celeba')\n",
    "target_img_path = os.path.join(base_path, 'processed')\n",
    "\n",
    "eval_list = np.loadtxt(os.path.join(base_path, 'list_eval_partition.csv'), dtype=str, delimiter=',', skiprows=1)\n",
    "eval_list[0]\n"
   ]
  },
  {
   "cell_type": "code",
   "execution_count": 25,
   "metadata": {
    "collapsed": false
   },
   "outputs": [
    {
     "data": {
      "text/plain": [
       "<matplotlib.image.AxesImage at 0x21624dd3ca0>"
      ]
     },
     "execution_count": 25,
     "metadata": {},
     "output_type": "execute_result"
    }
   ],
   "source": [
    "%matplotlib qt5\n",
    "img_sample = cv2.imread(os.path.join(img_base_path, eval_list[0][0]))\n",
    "\n",
    "h, w, _ = img_sample.shape\n",
    "\n",
    "# print(int(w)/2)\n",
    "\n",
    "crop_sample = img_sample[int((h-w)/2):int(-(h-w)/2), :]\n",
    "half_sample = img_sample[:int(w/2), :]\n",
    "# resized_sample = pyramid_reduce(crop_sample, downscale=4)\n",
    "\n",
    "# pad = int((crop_sample.shape[0] - resized_sample.shape[0]) / 2)\n",
    "\n",
    "# padded_sample = cv2.copyMakeBorder(resized_sample,\n",
    "#                                    top=pad,\n",
    "#                                    bottom=pad,\n",
    "#                                    left=pad,\n",
    "#                                    right=pad,\n",
    "#                                    borderType=cv2.BORDER_CONSTANT,\n",
    "#                                    value=(0,0,0))\n",
    "\n",
    "# print(crop_sample.shape, padded_sample.shape)\n",
    "\n",
    "plt.figure(figsize=(12, 5))\n",
    "plt.subplot(1, 4, 1)\n",
    "plt.imshow(img_sample)\n",
    "plt.subplot(1, 4, 2)\n",
    "plt.imshow(crop_sample)\n",
    "plt.subplot(1, 4, 3)\n",
    "plt.imshow(half_sample)\n",
    "# print(1)\n",
    "# plt.subplot(1, 4, 3)\n",
    "# plt.imshow(resized_sample)\n",
    "# print(1)\n",
    "# plt.subplot(1, 4, 4)\n",
    "# plt.imshow(padded_sample)"
   ]
  },
  {
   "cell_type": "code",
   "execution_count": 5,
   "metadata": {
    "collapsed": false
   },
   "outputs": [
    {
     "name": "stdout",
     "output_type": "stream",
     "text": [
      "0 0\n"
     ]
    },
    {
     "ename": "IndexError",
     "evalue": "list index out of range",
     "output_type": "error",
     "traceback": [
      "\u001b[1;31m---------------------------------------------------------------------------\u001b[0m",
      "\u001b[1;31mIndexError\u001b[0m                                Traceback (most recent call last)",
      "\u001b[1;32m<ipython-input-5-e5051d07cec1>\u001b[0m in \u001b[0;36m<module>\u001b[1;34m\u001b[0m\n\u001b[0;32m      5\u001b[0m \u001b[1;33m\u001b[0m\u001b[0m\n\u001b[0;32m      6\u001b[0m \u001b[0mprint\u001b[0m\u001b[1;33m(\u001b[0m\u001b[0mlen\u001b[0m\u001b[1;33m(\u001b[0m\u001b[0mx_train\u001b[0m\u001b[1;33m)\u001b[0m\u001b[1;33m,\u001b[0m \u001b[0mlen\u001b[0m\u001b[1;33m(\u001b[0m\u001b[0mx_val\u001b[0m\u001b[1;33m)\u001b[0m\u001b[1;33m)\u001b[0m\u001b[1;33m\u001b[0m\u001b[1;33m\u001b[0m\u001b[0m\n\u001b[1;32m----> 7\u001b[1;33m \u001b[0mprint\u001b[0m\u001b[1;33m(\u001b[0m\u001b[0mx_train\u001b[0m\u001b[1;33m[\u001b[0m\u001b[1;36m0\u001b[0m\u001b[1;33m]\u001b[0m\u001b[1;33m)\u001b[0m\u001b[1;33m\u001b[0m\u001b[1;33m\u001b[0m\u001b[0m\n\u001b[0m",
      "\u001b[1;31mIndexError\u001b[0m: list index out of range"
     ]
    }
   ],
   "source": [
    "x_train = sorted(glob.glob(os.path.join(base_path, 'x_train', '*.npy')))\n",
    "x_val = sorted(glob.glob(os.path.join(base_path, 'x_val', '*.npy')))\n",
    "\n",
    "print(len(x_train), len(x_val))\n",
    "print(x_train[0])\n"
   ]
  }
 ],
 "metadata": {
  "kernelspec": {
   "argv": [
    "D:/Anaconda\\python.exe",
    "-m",
    "ipykernel_launcher",
    "-f",
    "{connection_file}"
   ],
   "display_name": "Python 3",
   "env": null,
   "interrupt_mode": "signal",
   "language": "python",
   "metadata": null,
   "name": "python3"
  },
  "name": "Untitled.ipynb"
 },
 "nbformat": 4,
 "nbformat_minor": 4
}
